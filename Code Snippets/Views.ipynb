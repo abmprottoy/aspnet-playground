{
 "cells": [
  {
   "cell_type": "markdown",
   "metadata": {},
   "source": [
    "### Winstrap\n",
    "Code snippets for Winstrap (Windows 10) theme.\n",
    "\n",
    "#### _Layout.cshtml"
   ]
  },
  {
   "cell_type": "code",
   "execution_count": null,
   "metadata": {
    "dotnet_interactive": {
     "language": "csharp"
    },
    "polyglot_notebook": {
     "kernelName": "csharp"
    },
    "vscode": {
     "languageId": "polyglot-notebook"
    }
   },
   "outputs": [],
   "source": [
    "<!DOCTYPE html>\n",
    "<html>\n",
    "<head>\n",
    "    <meta charset=\"utf-8\" />\n",
    "    <meta name=\"viewport\" content=\"width=device-width, initial-scale=1.0\">\n",
    "    <title>@ViewBag.Title - My ASP.NET Application</title>\n",
    "    @Styles.Render(\"~/Content/css\")\n",
    "    @Scripts.Render(\"~/bundles/modernizr\")\n",
    "</head>\n",
    "<body>\n",
    "    <nav class=\"navbar navbar-default\">\n",
    "        <div class=\"navbar-global theme-dark color-accent\">\n",
    "            <div class=\"container\">\n",
    "                <div class=\"navbar-header\">\n",
    "                    <i class=\"navbar-brand glyph glyph-caption\"></i>\n",
    "                    @Html.ActionLink(\"App\", \"Index\", \"Home\", new { area = \"\" }, new { @class = \"navbar-brand\" })\n",
    "                    <button type=\"button\" class=\"navbar-toggle collapsed pull-right\" data-toggle=\"collapse\" data-target=\"#navheader\">\n",
    "                        <span class=\"sr-only\">Toggle navigation</span>\n",
    "                        <i class=\"glyph glyph-hamburger\"></i>\n",
    "                    </button>\n",
    "                </div>\n",
    "                <div class=\"collapse navbar-collapse\" id=\"navheader\">\n",
    "                    <ul class=\"nav navbar-nav navbar-right\">\n",
    "                        <li>@Html.ActionLink(\"Home\", \"Index\", \"Home\", new { area = \"\" }, new { @class = \"nav-link\" })</li>\n",
    "                        <li>@Html.ActionLink(\"Contact\", \"Contact\", \"Home\", new { area = \"\" }, new { @class = \"nav-link\" })</li>\n",
    "                        <li>@Html.ActionLink(\"About\", \"About\", \"Home\", new { area = \"\" }, new { @class = \"nav-link\" })</li>\n",
    "                    </ul>\n",
    "                </div>\n",
    "            </div>\n",
    "        </div>\n",
    "    </nav>\n",
    "    <div class=\"container body-content\">\n",
    "        @RenderBody()\n",
    "        \n",
    "        <footer>\n",
    "            <p class=\"type-p4\">&copy; @DateTime.Now.Year - App</p>\n",
    "        </footer>\n",
    "    </div>\n",
    "\n",
    "    @Scripts.Render(\"~/bundles/jquery\")\n",
    "    @Scripts.Render(\"~/bundles/bootstrap\")\n",
    "    @RenderSection(\"scripts\", required: false)\n",
    "</body>\n",
    "</html>\n"
   ]
  }
 ],
 "metadata": {
  "kernelspec": {
   "display_name": ".NET (C#)",
   "language": "C#",
   "name": ".net-csharp"
  },
  "language_info": {
   "name": "python"
  },
  "polyglot_notebook": {
   "kernelInfo": {
    "defaultKernelName": "csharp",
    "items": [
     {
      "aliases": [],
      "name": "csharp"
     }
    ]
   }
  }
 },
 "nbformat": 4,
 "nbformat_minor": 2
}
